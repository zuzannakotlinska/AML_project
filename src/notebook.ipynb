{
 "cells": [
  {
   "cell_type": "code",
   "execution_count": 2,
   "metadata": {},
   "outputs": [],
   "source": [
    "import numpy as np\n",
    "import pandas as pd\n",
    "import openml\n",
    "import warnings\n",
    "warnings.filterwarnings(\"ignore\")\n",
    "from sklearn.preprocessing import LabelEncoder"
   ]
  },
  {
   "cell_type": "markdown",
   "metadata": {},
   "source": [
    "## Datasets"
   ]
  },
  {
   "cell_type": "markdown",
   "metadata": {},
   "source": [
    "Small datasets:\n",
    "- 37: diabetes\n",
    "- 1462: banknote-authentication\n",
    "- 871: pollen\n",
    "\n",
    "Large datasets:\n",
    "- 1479: hill-valey\n",
    "- 1120: MagicTelescope\n",
    "- 23512: higgs\n",
    "- 23517: numerai28.6\n",
    "- 979: waveform-5000\n",
    "- 1487: ozone-level-8hr"
   ]
  },
  {
   "cell_type": "code",
   "execution_count": 87,
   "metadata": {},
   "outputs": [],
   "source": [
    "def read_data(id):\n",
    "    dataset = openml.datasets.get_dataset(id)\n",
    "    df, _, _, _ = dataset.get_data(dataset_format=\"dataframe\")\n",
    "    numerical_cols = df.select_dtypes(include='number').columns\n",
    "    target_col = df.select_dtypes(exclude='number').columns\n",
    "    X = df[numerical_cols].to_numpy()\n",
    "    label_encoder = LabelEncoder()\n",
    "    y = label_encoder.fit_transform(df[target_col])\n",
    "    return X, y\n",
    "\n",
    "def list_data(id_list):\n",
    "    data_list = []\n",
    "    for id in id_list:\n",
    "        data_list.append(read_data(id))\n",
    "    return data_list"
   ]
  },
  {
   "cell_type": "code",
   "execution_count": 88,
   "metadata": {},
   "outputs": [],
   "source": [
    "id_list = [37, 1462, 871, 1479, 1120, 23512, 23517, 979, 1487] #small datasets first\n",
    "data_list = list_data(id_list)"
   ]
  }
 ],
 "metadata": {
  "kernelspec": {
   "display_name": "base",
   "language": "python",
   "name": "base"
  },
  "language_info": {
   "codemirror_mode": {
    "name": "ipython",
    "version": 3
   },
   "file_extension": ".py",
   "mimetype": "text/x-python",
   "name": "python",
   "nbconvert_exporter": "python",
   "pygments_lexer": "ipython3",
   "version": "3.8.3"
  }
 },
 "nbformat": 4,
 "nbformat_minor": 2
}
