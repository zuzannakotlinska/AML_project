{
 "cells": [
  {
   "cell_type": "code",
   "execution_count": 1,
   "metadata": {},
   "outputs": [],
   "source": [
    "import pandas as pd\n",
    "import numpy as np\n",
    "from numpy.linalg import inv\n",
    "import matplotlib.pyplot as plt\n",
    "from collections import defaultdict\n",
    "import os\n",
    "from sklearn.model_selection import train_test_split\n",
    "from sklearn.metrics import log_loss\n",
    "from sklearn.preprocessing import MinMaxScaler"
   ]
  },
  {
   "cell_type": "code",
   "execution_count": 2,
   "metadata": {},
   "outputs": [],
   "source": [
    "raw_df = pd.read_csv('https://www.openml.org/data/get_csv/61/dataset_61_iris.arff')"
   ]
  },
  {
   "cell_type": "code",
   "execution_count": 3,
   "metadata": {},
   "outputs": [],
   "source": [
    "iris_df = raw_df[raw_df['class']!='Iris-setosa']"
   ]
  },
  {
   "cell_type": "code",
   "execution_count": 6,
   "metadata": {},
   "outputs": [],
   "source": [
    "X = iris_df.iloc[:,:-1]\n",
    "y = iris_df['class']\n",
    "y= y.map({'Iris-versicolor':1,'Iris-virginica':0})"
   ]
  },
  {
   "cell_type": "code",
   "execution_count": 7,
   "metadata": {},
   "outputs": [],
   "source": [
    "y=y.to_numpy()\n",
    "X = X.to_numpy()"
   ]
  },
  {
   "cell_type": "code",
   "execution_count": 8,
   "metadata": {},
   "outputs": [],
   "source": [
    "train_X,test_X,train_y,test_y = train_test_split(X,y,test_size=0.2,random_state=42)"
   ]
  },
  {
   "cell_type": "code",
   "execution_count": 14,
   "metadata": {},
   "outputs": [],
   "source": [
    "class LogisticRegression:\n",
    "    def __init__(self,plot=True):\n",
    "        self.plot_loss = plot\n",
    "        pass\n",
    "    def fit(self,X,y):\n",
    "        self.train_X = self.transform_X(X)\n",
    "        self.train_y = self.transform_y(y)\n",
    "        self.N,self.D = self.train_X.shape\n",
    "        self.optimize(plot=self.plot_loss)\n",
    "        \n",
    "    def optimize(self,plot,epoch=500):\n",
    "        betas = 2 * np.random.rand(self.D,1) - 1\n",
    "        # betas = np.zeros((self.D,1))+1\n",
    "        losses =[]\n",
    "        for e in range(epoch):\n",
    "            # I will follow Bishop notation\n",
    "            y = self.sigmoid(np.matmul(self.train_X,betas))\n",
    "            R = np.diag(np.ravel(y*(1-y)))\n",
    "            grad = np.matmul(self.train_X.T,(y-self.train_y))\n",
    "            hessian = np.matmul(np.matmul(self.train_X.T,R),self.train_X)+0.001*np.eye(self.D)\n",
    "            betas -= np.matmul(inv(hessian),grad)\n",
    "            loss = self.cross_entropy_loss(self.train_y,self.sigmoid(np.matmul(self.train_X,betas)))\n",
    "            losses.append(loss)\n",
    "        self.coef = betas[1:]\n",
    "        self.intercept = betas[0]\n",
    "        if plot:\n",
    "            plt.title('Loss Curve')\n",
    "            plt.xlabel('Update round')\n",
    "            plt.ylabel('Loss')\n",
    "            plt.plot(losses)\n",
    "        \n",
    "    \n",
    "    def predict(self,test_X, thres=0.5):\n",
    "        test_X = np.array(test_X)\n",
    "        pred_y= self.sigmoid(np.matmul(test_X,self.coef)+self.intercept)\n",
    "        return np.where(pred_y > thres, 1, 0)\n",
    "        \n",
    "    def predict_proba(self,test_X):\n",
    "        test_X = np.array(test_X)\n",
    "        return self.sigmoid(np.matmul(test_X,self.coef)+self.intercept)\n",
    "    \n",
    "    def transform_X(self,X):\n",
    "        X = np.array(X)\n",
    "        X = np.insert(X,0,np.ones((X.shape[0])),axis=1)\n",
    "        return X\n",
    "    def transform_y(self,y):\n",
    "        y = np.array(y)\n",
    "        y = y.reshape((y.shape[0],-1))\n",
    "        return y\n",
    "    \n",
    "    def cross_entropy_loss(self,y_true,y_pred,clip_val=1e-10):\n",
    "        y_pred = np.clip(y_pred,clip_val,1-clip_val)\n",
    "        loss = np.multiply(y_true,np.log(y_pred))\n",
    "        total_loss = -np.sum(loss,axis=0)\n",
    "        return total_loss\n",
    "        \n",
    "    def sigmoid(self,x):\n",
    "        return 1 / (1 +np.exp(-x))"
   ]
  },
  {
   "cell_type": "code",
   "execution_count": 15,
   "metadata": {},
   "outputs": [
    {
     "data": {
      "text/plain": [
       "0.85"
      ]
     },
     "execution_count": 15,
     "metadata": {},
     "output_type": "execute_result"
    },
    {
     "data": {
      "image/png": "[encoded data removed]",
      "text/plain": [
       "<Figure size 640x480 with 1 Axes>"
      ]
     },
     "metadata": {},
     "output_type": "display_data"
    }
   ],
   "source": [
    "from sklearn.metrics import accuracy_score\n",
    "\n",
    "model = LogisticRegression()\n",
    "model.fit(train_X,train_y)\n",
    "pred_y = model.predict(test_X)\n",
    "accuracy_score(test_y,pred_y)"
   ]
  },
  {
   "cell_type": "code",
   "execution_count": 17,
   "metadata": {},
   "outputs": [
    {
     "name": "stdout",
     "output_type": "stream",
     "text": [
      "Accuracy: 0.85\n"
     ]
    }
   ],
   "source": [
    "from optimizers import IRLS\n",
    "from lr import LogisticRegression\n",
    "\n",
    "X_train, X_test, y_train, y_test = train_test_split(X, y, test_size=0.2, random_state=42)\n",
    "optimizer = IRLS()\n",
    "model = LogisticRegression(optimizer=optimizer, epochs=500)\n",
    "model.fit(X_train, y_train)\n",
    "y_pred = model.predict(X_test)\n",
    "print('Accuracy:', accuracy_score(y_test, y_pred))"
   ]
  }
 ],
 "metadata": {
  "kernelspec": {
   "display_name": "test",
   "language": "python",
   "name": "python3"
  },
  "language_info": {
   "codemirror_mode": {
    "name": "ipython",
    "version": 3
   },
   "file_extension": ".py",
   "mimetype": "text/x-python",
   "name": "python",
   "nbconvert_exporter": "python",
   "pygments_lexer": "ipython3",
   "version": "3.9.16"
  }
 },
 "nbformat": 4,
 "nbformat_minor": 2
}
