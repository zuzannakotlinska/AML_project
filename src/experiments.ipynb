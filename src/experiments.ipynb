{
 "cells": [
  {
   "cell_type": "code",
   "execution_count": 1,
   "metadata": {},
   "outputs": [
    {
     "name": "stderr",
     "output_type": "stream",
     "text": [
      "c:\\Users\\User\\anaconda3\\lib\\site-packages\\scipy\\__init__.py:138: UserWarning: A NumPy version >=1.16.5 and <1.23.0 is required for this version of SciPy (detected version 1.23.5)\n",
      "  warnings.warn(f\"A NumPy version >={np_minversion} and <{np_maxversion} is required for this version of \"\n"
     ]
    }
   ],
   "source": [
    "import pickle\n",
    "import pandas as pd\n",
    "import matplotlib.pyplot as plt\n",
    "import seaborn as sns\n",
    "sns.set(font_scale=1.4, style='darkgrid')\n",
    "from lr import LogisticRegression\n",
    "from sklearn.model_selection import train_test_split, StratifiedKFold\n",
    "from optimizers import SGD, Adam, IRLS\n",
    "from sklearn.metrics import balanced_accuracy_score\n",
    "from sklearn.discriminant_analysis import LinearDiscriminantAnalysis, QuadraticDiscriminantAnalysis\n",
    "from sklearn.tree import DecisionTreeClassifier\n",
    "from sklearn.ensemble import RandomForestClassifier\n",
    "import warnings\n",
    "warnings.filterwarnings('ignore')"
   ]
  },
  {
   "cell_type": "markdown",
   "metadata": {},
   "source": [
    "## Task 3.2"
   ]
  },
  {
   "cell_type": "code",
   "execution_count": 2,
   "metadata": {},
   "outputs": [],
   "source": [
    "def run_experiments(data_list, optimizer_classes, optimizer_params, include_interactions=False):\n",
    "    results = []\n",
    "    for i, data in enumerate(data_list):\n",
    "        X, y = data\n",
    "        skf = StratifiedKFold(n_splits=5, shuffle=True, random_state=42)\n",
    "        for split_index, (train_index, test_index) in enumerate(skf.split(X, y), start=1):\n",
    "            X_train, X_test = X[train_index], X[test_index]\n",
    "            y_train, y_test = y[train_index], y[test_index]\n",
    "            for optimizer_class in optimizer_classes:\n",
    "                optimizer = optimizer_class(**optimizer_params.get(optimizer_class.__name__, {}))\n",
    "                model = LogisticRegression(optimizer, early_stopping_rounds=5, epochs=500, include_interactions=include_interactions)\n",
    "                model.fit(X_train, y_train)\n",
    "                y_pred = model.predict(X_test)\n",
    "                score = balanced_accuracy_score(y_test, y_pred)\n",
    "                results.append({'dataset': i+1, 'method': optimizer_class.__name__, 'balanced_accuracy': score, 'losses': model.losses, 'split': split_index})\n",
    "    results_df = pd.DataFrame(results)\n",
    "    return results_df"
   ]
  },
  {
   "cell_type": "code",
   "execution_count": 3,
   "metadata": {},
   "outputs": [],
   "source": [
    "def plot_boxplots(results_df):\n",
    "    for optimizer in results_df['method'].unique():\n",
    "        optimizer_data = results_df[results_df['method'] == optimizer]\n",
    "        plt.figure(figsize=(10, 6))\n",
    "        sns.boxplot(data=optimizer_data, x='dataset', y='balanced_accuracy', color=sns.color_palette()[0])\n",
    "        plt.title(f'Boxplot of Balanced Accuracy for {optimizer}')\n",
    "        plt.xlabel('Dataset')\n",
    "        plt.ylabel('Balanced Accuracy')\n",
    "        plt.show()"
   ]
  },
  {
   "cell_type": "code",
   "execution_count": null,
   "metadata": {},
   "outputs": [],
   "source": [
    "with open('data_list.pkl', 'rb') as f:\n",
    "    data_list = pickle.load(f)\n",
    "\n",
    "optimizer_classes = [SGD, Adam, IRLS]\n",
    "optimizer_params = {\n",
    "    'SGD': {'learning_rate': 0.0001},\n",
    "    'Adam': {'learning_rate': 0.0001, 'beta1': 0.9, 'beta2': 0.999},\n",
    "    'IRLS': {'tol': 0.0001}\n",
    "}\n",
    "\n",
    "results_df = run_experiments(data_list, optimizer_classes, optimizer_params)"
   ]
  },
  {
   "cell_type": "code",
   "execution_count": null,
   "metadata": {},
   "outputs": [],
   "source": [
    "plot_boxplots(results_df)"
   ]
  },
  {
   "cell_type": "markdown",
   "metadata": {},
   "source": [
    "## Task 3.3"
   ]
  },
  {
   "cell_type": "markdown",
   "metadata": {},
   "source": [
    "Without early stopping"
   ]
  },
  {
   "cell_type": "code",
   "execution_count": null,
   "metadata": {},
   "outputs": [],
   "source": [
    "def plot_losses(data_list, optimizer_classes, optimizer_params):\n",
    "    for optimizer_class in optimizer_classes:\n",
    "        plt.figure(figsize=(10, 6))\n",
    "        for i in range(len(data_list)):\n",
    "            dataset = data_list[i]\n",
    "            X_train, X_test, y_train, y_test = train_test_split(dataset[0], dataset[1], test_size=0.2, random_state=101)\n",
    "            optimizer = optimizer_class(**optimizer_params.get(optimizer_class.__name__, {}))\n",
    "            model = LogisticRegression(optimizer, epochs=500)\n",
    "            model.fit(X_train, y_train)\n",
    "            plt.plot(model.losses, label='Dataset ' + str(i+1))\n",
    "        plt.title(f'Model Losses with {type(optimizer).__name__} optimizer')\n",
    "        plt.legend()\n",
    "        plt.xlabel('Epochs')\n",
    "        plt.ylabel('Log-likelihood')\n",
    "        plt.show()"
   ]
  },
  {
   "cell_type": "code",
   "execution_count": null,
   "metadata": {},
   "outputs": [],
   "source": [
    "plot_losses(data_list, optimizer_classes, optimizer_params)"
   ]
  },
  {
   "cell_type": "markdown",
   "metadata": {},
   "source": [
    "With early stopping"
   ]
  },
  {
   "cell_type": "code",
   "execution_count": null,
   "metadata": {},
   "outputs": [],
   "source": [
    "df = results_df[results_df['split'] == 1]\n",
    "for method in df['method'].unique():\n",
    "    method_df = df[df['method'] == method]\n",
    "    plt.figure(figsize=(15, 6))\n",
    "    plt.title(f'Log-likelihood per Epoch - {method} optimizer')\n",
    "    plt.xlabel('Epoch')\n",
    "    plt.ylabel('Loss')\n",
    "    for index, row in method_df.iterrows():\n",
    "        plt.plot(range(1, len(row['losses']) + 1), row['losses'], label=f'Dataset {row[\"dataset\"]}')\n",
    "    plt.legend()\n",
    "    plt.show()"
   ]
  },
  {
   "cell_type": "markdown",
   "metadata": {},
   "source": [
    "## Task 3.4"
   ]
  },
  {
   "cell_type": "code",
   "execution_count": 6,
   "metadata": {},
   "outputs": [],
   "source": [
    "def run_baseline(data_list, classifiers):\n",
    "    results = []\n",
    "    for i, data in enumerate(data_list):\n",
    "        X, y = data\n",
    "        skf = StratifiedKFold(n_splits=5, shuffle=True, random_state=42)\n",
    "        for split_index, (train_index, test_index) in enumerate(skf.split(X, y), start=1):\n",
    "            X_train, X_test = X[train_index], X[test_index]\n",
    "            y_train, y_test = y[train_index], y[test_index]\n",
    "            for classifier in classifiers:\n",
    "                model = classifier()\n",
    "                model.fit(X_train, y_train)\n",
    "                y_pred = model.predict(X_test)\n",
    "                score = balanced_accuracy_score(y_test, y_pred)\n",
    "                results.append({'dataset': i+1, 'method': type(model).__name__, 'balanced_accuracy': score, 'split': split_index})\n",
    "    results_df = pd.DataFrame(results)\n",
    "    return results_df"
   ]
  },
  {
   "cell_type": "code",
   "execution_count": 5,
   "metadata": {},
   "outputs": [],
   "source": [
    "def plot_all(results_df):\n",
    "    for dataset in results_df['dataset'].unique():\n",
    "        df = results_df[results_df['dataset'] == dataset]\n",
    "        plt.figure(figsize=(15, 6))\n",
    "        sns.boxplot(data=df, x='method', y='balanced_accuracy', color=sns.color_palette()[0])\n",
    "        plt.title(f'Boxplot of Balanced Accuracy for Dataset {dataset}')\n",
    "        plt.xticks(ticks=range(len(df['method'].unique())), labels=['SGD', 'ADAM', 'IRLS', 'LDA', 'QDA', 'Decision Tree', 'Random Forest'])\n",
    "        plt.xlabel('Method')\n",
    "        plt.ylabel('Balanced Accuracy')\n",
    "        plt.show()"
   ]
  },
  {
   "cell_type": "code",
   "execution_count": null,
   "metadata": {},
   "outputs": [],
   "source": [
    "classifiers = [LinearDiscriminantAnalysis, QuadraticDiscriminantAnalysis, DecisionTreeClassifier, RandomForestClassifier]\n",
    "baseline_results_df = run_baseline(data_list, classifiers)\n",
    "final_results_df = pd.concat([results_df, baseline_results_df])"
   ]
  },
  {
   "cell_type": "code",
   "execution_count": null,
   "metadata": {},
   "outputs": [],
   "source": [
    "plot_all(final_results_df)"
   ]
  },
  {
   "cell_type": "markdown",
   "metadata": {},
   "source": [
    "## Task 3.5"
   ]
  },
  {
   "cell_type": "code",
   "execution_count": null,
   "metadata": {},
   "outputs": [],
   "source": [
    "data_list_interactions = data_list[:3]\n",
    "results_interactions = run_experiments(data_list_interactions, optimizer_classes, optimizer_params, include_interactions=True)"
   ]
  },
  {
   "cell_type": "code",
   "execution_count": null,
   "metadata": {},
   "outputs": [],
   "source": [
    "small_results_df = results_df[results_df['dataset'].isin([1, 2, 3])]\n",
    "small_results_df['interactions'] = False\n",
    "results_interactions['interactions'] = True\n",
    "final_results_df = pd.concat([small_results_df, results_interactions])"
   ]
  },
  {
   "cell_type": "code",
   "execution_count": null,
   "metadata": {},
   "outputs": [],
   "source": [
    "for dataset in final_results_df['dataset'].unique():\n",
    "    df = final_results_df[final_results_df['dataset'] == dataset]\n",
    "    plt.figure(figsize=(10, 6))\n",
    "    sns.boxplot(data=df, x='method', y='balanced_accuracy', hue='interactions')\n",
    "    plt.title(f'Performance of models with and without interactions for Dataset {dataset}')\n",
    "    plt.xlabel('Method')\n",
    "    plt.ylabel('Balanced Accuracy')\n",
    "    plt.legend(title='Interactions')\n",
    "    plt.show()"
   ]
  }
 ],
 "metadata": {
  "kernelspec": {
   "display_name": "base",
   "language": "python",
   "name": "base"
  },
  "language_info": {
   "codemirror_mode": {
    "name": "ipython",
    "version": 3
   },
   "file_extension": ".py",
   "mimetype": "text/x-python",
   "name": "python",
   "nbconvert_exporter": "python",
   "pygments_lexer": "ipython3",
   "version": "3.8.3"
  }
 },
 "nbformat": 4,
 "nbformat_minor": 2
}
